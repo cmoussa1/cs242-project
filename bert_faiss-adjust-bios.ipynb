{
 "cells": [
  {
   "cell_type": "code",
   "execution_count": 12,
   "id": "1ee529a3-f5c9-4a62-b27a-0aee2da8c7c5",
   "metadata": {},
   "outputs": [
    {
     "name": "stdout",
     "output_type": "stream",
     "text": [
      "Requirement already satisfied: transformers in /Users/acupps/Library/Python/3.8/lib/python/site-packages (4.38.2)\n",
      "Requirement already satisfied: numpy>=1.17 in /Users/acupps/Library/Python/3.8/lib/python/site-packages (from transformers) (1.24.4)\n",
      "Requirement already satisfied: packaging>=20.0 in /Users/acupps/Library/Python/3.8/lib/python/site-packages (from transformers) (23.2)\n",
      "Requirement already satisfied: safetensors>=0.4.1 in /Users/acupps/Library/Python/3.8/lib/python/site-packages (from transformers) (0.4.2)\n",
      "Requirement already satisfied: requests in /Users/acupps/Library/Python/3.8/lib/python/site-packages (from transformers) (2.31.0)\n",
      "Requirement already satisfied: pyyaml>=5.1 in /Users/acupps/Library/Python/3.8/lib/python/site-packages (from transformers) (6.0.1)\n",
      "Requirement already satisfied: huggingface-hub<1.0,>=0.19.3 in /Users/acupps/Library/Python/3.8/lib/python/site-packages (from transformers) (0.21.3)\n",
      "Requirement already satisfied: filelock in /Users/acupps/Library/Python/3.8/lib/python/site-packages (from transformers) (3.13.1)\n",
      "Requirement already satisfied: tokenizers<0.19,>=0.14 in /Users/acupps/Library/Python/3.8/lib/python/site-packages (from transformers) (0.15.2)\n",
      "Requirement already satisfied: tqdm>=4.27 in /Users/acupps/Library/Python/3.8/lib/python/site-packages (from transformers) (4.66.2)\n",
      "Requirement already satisfied: regex!=2019.12.17 in /Users/acupps/Library/Python/3.8/lib/python/site-packages (from transformers) (2023.12.25)\n",
      "Requirement already satisfied: certifi>=2017.4.17 in /Users/acupps/Library/Python/3.8/lib/python/site-packages (from requests->transformers) (2023.11.17)\n",
      "Requirement already satisfied: charset-normalizer<4,>=2 in /Users/acupps/Library/Python/3.8/lib/python/site-packages (from requests->transformers) (3.3.2)\n",
      "Requirement already satisfied: idna<4,>=2.5 in /Users/acupps/Library/Python/3.8/lib/python/site-packages (from requests->transformers) (3.6)\n",
      "Requirement already satisfied: urllib3<3,>=1.21.1 in /Users/acupps/Library/Python/3.8/lib/python/site-packages (from requests->transformers) (2.1.0)\n",
      "Requirement already satisfied: fsspec>=2023.5.0 in /Users/acupps/Library/Python/3.8/lib/python/site-packages (from huggingface-hub<1.0,>=0.19.3->transformers) (2024.2.0)\n",
      "Requirement already satisfied: typing-extensions>=3.7.4.3 in /Users/acupps/Library/Python/3.8/lib/python/site-packages (from huggingface-hub<1.0,>=0.19.3->transformers) (4.9.0)\n",
      "\u001b[33mWARNING: You are using pip version 19.2.3, however version 24.0 is available.\n",
      "You should consider upgrading via the 'pip install --upgrade pip' command.\u001b[0m\n"
     ]
    }
   ],
   "source": [
    "!pip3 install transformers"
   ]
  },
  {
   "cell_type": "code",
   "execution_count": 13,
   "id": "7cbab3c3-0ab1-4f1e-a210-d9f6361c5fdc",
   "metadata": {},
   "outputs": [
    {
     "name": "stdout",
     "output_type": "stream",
     "text": [
      "Requirement already satisfied: faiss-cpu in /Users/acupps/Library/Python/3.8/lib/python/site-packages (1.8.0)\n",
      "Requirement already satisfied: numpy in /Users/acupps/Library/Python/3.8/lib/python/site-packages (from faiss-cpu) (1.24.4)\n",
      "\u001b[33mWARNING: You are using pip version 19.2.3, however version 24.0 is available.\n",
      "You should consider upgrading via the 'pip install --upgrade pip' command.\u001b[0m\n"
     ]
    }
   ],
   "source": [
    "!pip3 install faiss-cpu"
   ]
  },
  {
   "cell_type": "code",
   "execution_count": 14,
   "id": "784c6c9c-689c-48fd-bd16-de2d7f133179",
   "metadata": {},
   "outputs": [
    {
     "name": "stdout",
     "output_type": "stream",
     "text": [
      "Requirement already up-to-date: scikit-learn in /Users/acupps/Library/Python/3.8/lib/python/site-packages (1.3.2)\n",
      "Requirement already up-to-date: scipy in /Users/acupps/Library/Python/3.8/lib/python/site-packages (1.10.1)\n",
      "Requirement already up-to-date: matplotlib in /Users/acupps/Library/Python/3.8/lib/python/site-packages (3.7.5)\n",
      "Requirement already satisfied, skipping upgrade: joblib>=1.1.1 in /Users/acupps/Library/Python/3.8/lib/python/site-packages (from scikit-learn) (1.3.2)\n",
      "Requirement already satisfied, skipping upgrade: threadpoolctl>=2.0.0 in /Users/acupps/Library/Python/3.8/lib/python/site-packages (from scikit-learn) (3.3.0)\n",
      "Requirement already satisfied, skipping upgrade: numpy<2.0,>=1.17.3 in /Users/acupps/Library/Python/3.8/lib/python/site-packages (from scikit-learn) (1.24.4)\n",
      "Requirement already satisfied, skipping upgrade: cycler>=0.10 in /Users/acupps/Library/Python/3.8/lib/python/site-packages (from matplotlib) (0.12.1)\n",
      "Requirement already satisfied, skipping upgrade: contourpy>=1.0.1 in /Users/acupps/Library/Python/3.8/lib/python/site-packages (from matplotlib) (1.1.1)\n",
      "Requirement already satisfied, skipping upgrade: packaging>=20.0 in /Users/acupps/Library/Python/3.8/lib/python/site-packages (from matplotlib) (23.2)\n",
      "Requirement already satisfied, skipping upgrade: pyparsing>=2.3.1 in /Users/acupps/Library/Python/3.8/lib/python/site-packages (from matplotlib) (3.1.1)\n",
      "Requirement already satisfied, skipping upgrade: fonttools>=4.22.0 in /Users/acupps/Library/Python/3.8/lib/python/site-packages (from matplotlib) (4.49.0)\n",
      "Requirement already satisfied, skipping upgrade: python-dateutil>=2.7 in /Users/acupps/Library/Python/3.8/lib/python/site-packages (from matplotlib) (2.9.0.post0)\n",
      "Requirement already satisfied, skipping upgrade: pillow>=6.2.0 in /Users/acupps/Library/Python/3.8/lib/python/site-packages (from matplotlib) (10.2.0)\n",
      "Requirement already satisfied, skipping upgrade: kiwisolver>=1.0.1 in /Users/acupps/Library/Python/3.8/lib/python/site-packages (from matplotlib) (1.4.5)\n",
      "Requirement already satisfied, skipping upgrade: importlib-resources>=3.2.0; python_version < \"3.10\" in /Users/acupps/Library/Python/3.8/lib/python/site-packages (from matplotlib) (6.1.2)\n",
      "Requirement already satisfied, skipping upgrade: six>=1.5 in /Library/Developer/CommandLineTools/Library/Frameworks/Python3.framework/Versions/3.8/lib/python3.8/site-packages (from python-dateutil>=2.7->matplotlib) (1.15.0)\n",
      "Requirement already satisfied, skipping upgrade: zipp>=3.1.0; python_version < \"3.10\" in /Users/acupps/Library/Python/3.8/lib/python/site-packages (from importlib-resources>=3.2.0; python_version < \"3.10\"->matplotlib) (3.17.0)\n",
      "\u001b[33mWARNING: You are using pip version 19.2.3, however version 24.0 is available.\n",
      "You should consider upgrading via the 'pip install --upgrade pip' command.\u001b[0m\n"
     ]
    }
   ],
   "source": [
    "!pip3 install -U scikit-learn scipy matplotlib"
   ]
  },
  {
   "cell_type": "code",
   "execution_count": 15,
   "id": "396439ee-f9e8-4f9a-a1ec-8213ce4cee84",
   "metadata": {},
   "outputs": [
    {
     "name": "stdout",
     "output_type": "stream",
     "text": [
      "Requirement already satisfied: networkx==3.1 in /Users/acupps/Library/Python/3.8/lib/python/site-packages (3.1)\n",
      "\u001b[33mWARNING: You are using pip version 19.2.3, however version 24.0 is available.\n",
      "You should consider upgrading via the 'pip install --upgrade pip' command.\u001b[0m\n",
      "Looking in indexes: https://pypi.org/simple, https://download.pytorch.org/whl/cpu\n",
      "Requirement already satisfied: torch in /Users/acupps/Library/Python/3.8/lib/python/site-packages (2.2.1)\n",
      "Requirement already satisfied: torchvision in /Users/acupps/Library/Python/3.8/lib/python/site-packages (0.17.1)\n",
      "Requirement already satisfied: torchaudio in /Users/acupps/Library/Python/3.8/lib/python/site-packages (2.2.1)\n",
      "Requirement already satisfied: sympy in /Users/acupps/Library/Python/3.8/lib/python/site-packages (from torch) (1.12)\n",
      "Requirement already satisfied: networkx in /Users/acupps/Library/Python/3.8/lib/python/site-packages (from torch) (3.1)\n",
      "Requirement already satisfied: typing-extensions>=4.8.0 in /Users/acupps/Library/Python/3.8/lib/python/site-packages (from torch) (4.9.0)\n",
      "Requirement already satisfied: jinja2 in /Users/acupps/Library/Python/3.8/lib/python/site-packages (from torch) (3.1.3)\n",
      "Requirement already satisfied: fsspec in /Users/acupps/Library/Python/3.8/lib/python/site-packages (from torch) (2024.2.0)\n",
      "Requirement already satisfied: filelock in /Users/acupps/Library/Python/3.8/lib/python/site-packages (from torch) (3.13.1)\n",
      "Requirement already satisfied: pillow!=8.3.*,>=5.3.0 in /Users/acupps/Library/Python/3.8/lib/python/site-packages (from torchvision) (10.2.0)\n",
      "Requirement already satisfied: numpy in /Users/acupps/Library/Python/3.8/lib/python/site-packages (from torchvision) (1.24.4)\n",
      "Requirement already satisfied: mpmath>=0.19 in /Users/acupps/Library/Python/3.8/lib/python/site-packages (from sympy->torch) (1.3.0)\n",
      "Requirement already satisfied: MarkupSafe>=2.0 in /Users/acupps/Library/Python/3.8/lib/python/site-packages (from jinja2->torch) (2.1.5)\n",
      "\u001b[33mWARNING: You are using pip version 19.2.3, however version 24.0 is available.\n",
      "You should consider upgrading via the 'pip install --upgrade pip' command.\u001b[0m\n"
     ]
    }
   ],
   "source": [
    "!pip3 install networkx==3.1\n",
    "!pip3 install torch torchvision torchaudio --extra-index-url https://download.pytorch.org/whl/cpu"
   ]
  },
  {
   "cell_type": "code",
   "execution_count": 16,
   "id": "9d905e76-4255-47c9-8568-51796e4a32c6",
   "metadata": {},
   "outputs": [
    {
     "name": "stderr",
     "output_type": "stream",
     "text": [
      "/Users/acupps/Library/Python/3.8/lib/python/site-packages/urllib3/__init__.py:34: NotOpenSSLWarning: urllib3 v2 only supports OpenSSL 1.1.1+, currently the 'ssl' module is compiled with 'LibreSSL 2.8.3'. See: https://github.com/urllib3/urllib3/issues/3020\n",
      "  warnings.warn(\n"
     ]
    }
   ],
   "source": [
    "from transformers import AutoTokenizer, AutoModel\n",
    "import torch"
   ]
  },
  {
   "cell_type": "code",
   "execution_count": 135,
   "id": "265025ae-8bfd-46f9-be15-5f50d1a6b97a",
   "metadata": {},
   "outputs": [],
   "source": [
    "tokenizer = AutoTokenizer.from_pretrained('BAAI/bge-small-en-v1.5')\n",
    "model = AutoModel.from_pretrained('BAAI/bge-small-en-v1.5')"
   ]
  },
  {
   "cell_type": "markdown",
   "id": "626cbee6-4e8f-4210-a7d2-3d9ce63660a5",
   "metadata": {},
   "source": [
    "We'll need to load our player data from our scraped JSON file that stores MLB player data:"
   ]
  },
  {
   "cell_type": "code",
   "execution_count": 279,
   "id": "696cf153-b8a9-4c6e-81b3-e25d34421139",
   "metadata": {},
   "outputs": [],
   "source": [
    "import json\n",
    "\n",
    "json_file_path = 'myfirstproject/myfirstproject/json_data/mlb_data_with_urls.json'\n",
    "\n",
    "# load the JSON data from file\n",
    "with open(json_file_path, 'r') as file:\n",
    "    data = json.load(file)\n",
    "\n",
    "# filter to include only dictionaries with non-empty 'biographical_information'\n",
    "valid_entries = [entry for entry in data if 'biographical_information' in entry and entry['biographical_information'].strip()]\n",
    "\n",
    "# create the sentences list from the filtered valid_entries list\n",
    "sentences = [entry['biographical_information'] for entry in valid_entries]"
   ]
  },
  {
   "cell_type": "markdown",
   "id": "2506b3da-9cea-4cb7-8efa-12f628ef5971",
   "metadata": {},
   "source": [
    "Now we need to tokenize the above sentences and prepare them for input to the BERT model. We'll create a dictionary with two keys: `input_ids` and `attention_mask`. These will be populated with the tokenized versions of the sentences."
   ]
  },
  {
   "cell_type": "code",
   "execution_count": 280,
   "id": "6abd30a4-74ba-4382-9527-bbddb431605b",
   "metadata": {},
   "outputs": [],
   "source": [
    "# initialize dictionary to store tokenized sentences\n",
    "tokens = {'input_ids': [], 'attention_mask': []}\n",
    "\n",
    "for sentence in sentences:\n",
    "    # encode each sentence and append to dictionary\n",
    "    new_tokens = tokenizer.encode_plus(sentence, max_length=512,\n",
    "                                       truncation=True, padding='max_length',\n",
    "                                       return_tensors='pt')\n",
    "    tokens['input_ids'].append(new_tokens['input_ids'][0])\n",
    "    tokens['attention_mask'].append(new_tokens['attention_mask'][0])"
   ]
  },
  {
   "cell_type": "markdown",
   "id": "0771b3c2-c715-4e1d-8e16-c098eabfb81a",
   "metadata": {},
   "source": [
    "The next section will prepare the tokenized sentences for processing with the BERT model by reformatting the lists of tensors into single tensors."
   ]
  },
  {
   "cell_type": "code",
   "execution_count": 281,
   "id": "17d368b0-d17c-444c-8a51-09a1bdc1ae92",
   "metadata": {},
   "outputs": [],
   "source": [
    "# reformat list of tensors into single tensor\n",
    "tokens['input_ids'] = torch.stack(tokens['input_ids'])\n",
    "tokens['attention_mask'] = torch.stack(tokens['attention_mask'])"
   ]
  },
  {
   "cell_type": "markdown",
   "id": "41b096f3-02b9-43bf-bee3-b7b2e98ee17b",
   "metadata": {},
   "source": [
    "Below, the BERT model will process the tokenized inputs:"
   ]
  },
  {
   "cell_type": "code",
   "execution_count": 282,
   "id": "dad79398-f976-414c-bdb7-de73d438bac1",
   "metadata": {},
   "outputs": [
    {
     "name": "stdout",
     "output_type": "stream",
     "text": [
      "done modeling\n"
     ]
    }
   ],
   "source": [
    "def batchify(data, batch_size):\n",
    "    \"\"\"Yield consecutive batches of size `batch_size` from `data`.\"\"\"\n",
    "    for i in range(0, len(data), batch_size):\n",
    "        yield data[i:i + batch_size]\n",
    "\n",
    "# Define your batch size\n",
    "batch_size = 5  # Adjust this based on your system's capabilities\n",
    "\n",
    "# Initialize lists to store batched outputs\n",
    "batched_outputs = []\n",
    "\n",
    "with torch.no_grad():\n",
    "    # Process in batches\n",
    "    for batch_ids, batch_mask in zip(batchify(tokens['input_ids'], batch_size), batchify(tokens['attention_mask'], batch_size)):\n",
    "        # Run the model on each batch\n",
    "        outputs = model(input_ids=batch_ids, attention_mask=batch_mask)\n",
    "        batched_outputs.append(outputs)\n",
    "        \n",
    "\n",
    "print(\"done modeling\")\n"
   ]
  },
  {
   "cell_type": "code",
   "execution_count": 172,
   "id": "b7747e7f-eeda-493b-8b2b-e9357ca986ea",
   "metadata": {},
   "outputs": [
    {
     "name": "stdout",
     "output_type": "stream",
     "text": [
      "odict_keys(['last_hidden_state', 'pooler_output'])\n",
      "odict_keys(['last_hidden_state', 'pooler_output'])\n",
      "odict_keys(['last_hidden_state', 'pooler_output'])\n",
      "odict_keys(['last_hidden_state', 'pooler_output'])\n"
     ]
    }
   ],
   "source": [
    "for outputs in batched_outputs:\n",
    "    print(outputs.keys())\n",
    "    "
   ]
  },
  {
   "cell_type": "markdown",
   "id": "b1e6ced3-c2a2-4003-b274-eb79caa01beb",
   "metadata": {},
   "source": [
    "This will extract the embeddings from the `last_hidden_state` tensor from the model's outputs to the `embeddings` variable. `last_hidden_state` is a tensor containing the final layer's hidden states for each token in each input sequence."
   ]
  },
  {
   "cell_type": "code",
   "execution_count": 286,
   "id": "792515c2-d7b2-4fb1-9f8a-9916c39b77e5",
   "metadata": {},
   "outputs": [
    {
     "data": {
      "text/plain": [
       "torch.Size([2578, 512, 384])"
      ]
     },
     "execution_count": 286,
     "metadata": {},
     "output_type": "execute_result"
    }
   ],
   "source": [
    "all_embeddings = []\n",
    "for output in batched_outputs:\n",
    "    all_embeddings.append(output.last_hidden_state)\n",
    "\n",
    "embeddings = torch.cat(all_embeddings, dim=0)\n",
    "embeddings.shape"
   ]
  },
  {
   "cell_type": "code",
   "execution_count": 287,
   "id": "54247cef-7126-4ad9-977f-3c10ef63c797",
   "metadata": {},
   "outputs": [
    {
     "data": {
      "text/plain": [
       "tensor([[[-0.1933,  0.2922, -0.0316,  ..., -0.6406,  0.3504,  0.1789],\n",
       "         [-0.2810,  0.1790,  0.3708,  ..., -0.6255,  0.7429,  0.6992],\n",
       "         [-0.3746,  0.2180,  0.3342,  ..., -0.2500,  0.0590, -0.4258],\n",
       "         ...,\n",
       "         [-0.2928,  0.0356,  0.1131,  ..., -0.4120,  0.4960,  0.3349],\n",
       "         [-0.0494,  0.1417,  0.2669,  ..., -0.5017,  0.6249,  0.3162],\n",
       "         [-0.1933,  0.2922, -0.0317,  ..., -0.6406,  0.3504,  0.1789]],\n",
       "\n",
       "        [[-0.3537, -0.0124,  0.1551,  ..., -0.4708,  0.2704,  0.8026],\n",
       "         [-0.1047, -0.0197,  0.3054,  ..., -0.0522,  0.6789,  0.8809],\n",
       "         [ 0.0369, -0.0584,  0.4165,  ..., -0.2867,  1.3656, -0.1929],\n",
       "         ...,\n",
       "         [-0.3535, -0.0120,  0.1553,  ..., -0.4710,  0.2703,  0.8028],\n",
       "         [-0.3536, -0.0121,  0.1553,  ..., -0.4709,  0.2703,  0.8028],\n",
       "         [-0.1191, -0.1704,  0.4413,  ..., -0.5985,  0.3026,  0.4541]],\n",
       "\n",
       "        [[-0.3684,  0.2967, -0.3442,  ..., -0.6297,  0.0565,  0.5579],\n",
       "         [-0.2648,  0.2442,  0.0237,  ..., -0.9600,  0.3339,  0.5710],\n",
       "         [-0.0376,  0.2456, -0.0707,  ...,  0.1969, -0.4493,  0.1912],\n",
       "         ...,\n",
       "         [-0.3293,  0.2083, -0.2330,  ..., -0.2928,  0.1395,  0.4507],\n",
       "         [-0.2585,  0.0481, -0.2375,  ..., -0.4310, -0.0555,  0.3990],\n",
       "         [-0.2098,  0.0210, -0.1306,  ..., -0.6047, -0.1710,  0.2732]],\n",
       "\n",
       "        ...,\n",
       "\n",
       "        [[-0.2763,  0.5812, -0.1567,  ..., -0.2655, -0.2621,  0.2676],\n",
       "         [-0.2644,  0.0601, -0.1697,  ...,  0.0483, -0.8481, -0.2970],\n",
       "         [-0.4246, -0.2372,  0.0232,  ...,  0.1073, -0.1773, -0.1576],\n",
       "         ...,\n",
       "         [-0.3825,  0.5864,  0.2498,  ..., -0.1271, -0.0476,  0.2605],\n",
       "         [-0.2333,  0.1378, -0.0045,  ...,  0.2173, -0.1078,  0.4597],\n",
       "         [-0.2762,  0.5812, -0.1567,  ..., -0.2655, -0.2621,  0.2676]],\n",
       "\n",
       "        [[-0.0349, -0.2550, -0.0046,  ..., -0.0102,  0.3279,  0.4247],\n",
       "         [ 0.3604, -0.1896,  0.0036,  ...,  0.2234,  0.1624,  0.3998],\n",
       "         [-0.3139, -0.1284,  0.2026,  ...,  0.0824,  0.7151,  0.8051],\n",
       "         ...,\n",
       "         [-0.1077, -0.4653,  0.1259,  ..., -0.5604,  0.8053,  0.7576],\n",
       "         [ 0.2795, -0.3341,  0.0188,  ...,  0.3161,  0.0906, -0.0636],\n",
       "         [-0.0348, -0.2550, -0.0046,  ..., -0.0102,  0.3279,  0.4247]],\n",
       "\n",
       "        [[-0.1367, -0.2693,  0.1754,  ..., -0.5419,  0.4068,  0.1948],\n",
       "         [-0.1795, -0.1170,  0.5621,  ..., -0.5785,  0.6781,  1.2286],\n",
       "         [-0.1608, -0.5191,  0.4747,  ..., -0.4130,  0.9486,  0.0560],\n",
       "         ...,\n",
       "         [-0.3438, -0.2338,  0.3550,  ..., -0.5579,  0.7820,  0.0487],\n",
       "         [-0.2318, -0.1993,  0.2095,  ..., -0.4747,  1.1388,  0.5977],\n",
       "         [-0.1366, -0.2693,  0.1754,  ..., -0.5419,  0.4068,  0.1948]]])"
      ]
     },
     "execution_count": 287,
     "metadata": {},
     "output_type": "execute_result"
    }
   ],
   "source": [
    "embeddings"
   ]
  },
  {
   "cell_type": "markdown",
   "id": "43705851-8ced-4c91-ad61-398ee603800d",
   "metadata": {},
   "source": [
    "After we have produced our dense vectors embeddings, we need to perform a mean pooling operation to create a single vector encoding (the sentence embedding). To do this mean pooling operation, we will need to multiply each value in our embeddings tensor by its respective attention_mask value — so that we ignore non-real tokens."
   ]
  },
  {
   "cell_type": "code",
   "execution_count": 292,
   "id": "e62c4382-fc9e-47b7-ace9-90876fc565f6",
   "metadata": {},
   "outputs": [
    {
     "data": {
      "text/plain": [
       "torch.Size([2578, 512])"
      ]
     },
     "execution_count": 292,
     "metadata": {},
     "output_type": "execute_result"
    }
   ],
   "source": [
    "# resize our attention_mask tensor:\n",
    "attention_mask = tokens['attention_mask']\n",
    "attention_mask.shape"
   ]
  },
  {
   "cell_type": "code",
   "execution_count": 294,
   "id": "b491e3d8-4d22-4e08-a2bf-8d00e3f472d5",
   "metadata": {},
   "outputs": [
    {
     "data": {
      "text/plain": [
       "torch.Size([2578, 512, 384])"
      ]
     },
     "execution_count": 294,
     "metadata": {},
     "output_type": "execute_result"
    }
   ],
   "source": [
    "mask = attention_mask.unsqueeze(-1).expand(embeddings.size()).float()\n",
    "mask.shape"
   ]
  },
  {
   "cell_type": "markdown",
   "id": "a6c94166-8bb7-44b3-8f14-39b9f832b131",
   "metadata": {},
   "source": [
    "Each vector above represents a single token attention mask - each token now has a vector of size 768 representing it's attention_mask status. Then we multiply the two tensors to apply the attention mask:"
   ]
  },
  {
   "cell_type": "code",
   "execution_count": 295,
   "id": "9f214908-d7bf-48aa-a434-800858a5d46e",
   "metadata": {},
   "outputs": [
    {
     "data": {
      "text/plain": [
       "torch.Size([2578, 512, 384])"
      ]
     },
     "execution_count": 295,
     "metadata": {},
     "output_type": "execute_result"
    }
   ],
   "source": [
    "masked_embeddings = embeddings * mask\n",
    "masked_embeddings.shape"
   ]
  },
  {
   "cell_type": "markdown",
   "id": "a4f4c604-715f-420f-9fdb-2ac9459a2023",
   "metadata": {},
   "source": [
    "\"Mean Pooling\" starts"
   ]
  },
  {
   "cell_type": "code",
   "execution_count": 296,
   "id": "6802dde8-032f-4525-bd7b-6d6d1bbc2536",
   "metadata": {},
   "outputs": [
    {
     "data": {
      "text/plain": [
       "torch.Size([2578, 384])"
      ]
     },
     "execution_count": 296,
     "metadata": {},
     "output_type": "execute_result"
    }
   ],
   "source": [
    "# Then we sum the remained of the embeddings along axis 1, because we want to reduce the 512 tokens to 1 dimension\n",
    "summed = torch.sum(masked_embeddings, 1)\n",
    "summed.shape"
   ]
  },
  {
   "cell_type": "markdown",
   "id": "2e9057ad-35f2-48ea-8f65-ab825161377e",
   "metadata": {},
   "source": [
    "we want to count only those values that we want to give attention\n",
    "then divide by the sum to get the mean"
   ]
  },
  {
   "cell_type": "code",
   "execution_count": 297,
   "id": "2875ec78-3d6a-4334-ac3a-de18ab6bb23b",
   "metadata": {},
   "outputs": [
    {
     "data": {
      "text/plain": [
       "torch.Size([2578, 384])"
      ]
     },
     "execution_count": 297,
     "metadata": {},
     "output_type": "execute_result"
    }
   ],
   "source": [
    "# clamp returns the same tensor with a range given, clamp is used to replace the zeros to a very minimal value\n",
    "# to avoid divide by zero error\n",
    "summed_mask = torch.clamp(mask.sum(1), min=1e-9)\n",
    "summed_mask.shape"
   ]
  },
  {
   "cell_type": "markdown",
   "id": "604f27de-eee2-4ced-95dd-8d1c84d73bf6",
   "metadata": {},
   "source": [
    "Finally, we calculate the mean as the sum of the embedding activations summed divided by the number of values that should be given attention in each position `summed_mask`:"
   ]
  },
  {
   "cell_type": "code",
   "execution_count": 299,
   "id": "d68564e3-c7e9-4008-84a6-e07eeeb451f2",
   "metadata": {},
   "outputs": [],
   "source": [
    "mean_pooled = summed / summed_mask"
   ]
  },
  {
   "cell_type": "markdown",
   "id": "d88430bd-b04a-41d9-a8c6-040389ac4d00",
   "metadata": {},
   "source": [
    "`mean_pooled` is the final \"dense representation\" of the sentences, note that mean_pooled contains all representations for all sentences together"
   ]
  },
  {
   "cell_type": "code",
   "execution_count": 300,
   "id": "626ff959-9c31-4568-aa62-53a971153065",
   "metadata": {},
   "outputs": [
    {
     "data": {
      "text/plain": [
       "tensor([[-0.1845,  0.3163,  0.2080,  ..., -0.6100,  0.4914,  0.1752],\n",
       "        [-0.2176,  0.0125,  0.3889,  ..., -0.4580,  0.4477,  0.6827],\n",
       "        [-0.3200,  0.2935, -0.0938,  ..., -0.5611,  0.1503,  0.4513],\n",
       "        ...,\n",
       "        [-0.2383,  0.3124,  0.1519,  ..., -0.2037, -0.0816,  0.2589],\n",
       "        [ 0.0193, -0.3073,  0.1475,  ..., -0.0456,  0.5093,  0.4060],\n",
       "        [-0.1927, -0.2879,  0.3511,  ..., -0.4951,  0.6355,  0.1398]])"
      ]
     },
     "execution_count": 300,
     "metadata": {},
     "output_type": "execute_result"
    }
   ],
   "source": [
    "mean_pooled"
   ]
  },
  {
   "cell_type": "markdown",
   "id": "f4d8d3e2-cb93-4966-85c8-52c0e3443a96",
   "metadata": {},
   "source": [
    "## Cosine Similarity"
   ]
  },
  {
   "cell_type": "code",
   "execution_count": 301,
   "id": "d8e292d6-21f2-4250-881a-4bb9652ce67c",
   "metadata": {},
   "outputs": [],
   "source": [
    "def convert_to_embedding(query):\n",
    "    tokens = {'input_ids': [], 'attention_mask': []}\n",
    "    new_tokens = tokenizer.encode_plus(query, max_length=512,\n",
    "                                       truncation=True, padding='max_length',\n",
    "                                       return_tensors='pt')\n",
    "    tokens['input_ids'].append(new_tokens['input_ids'][0])\n",
    "    tokens['attention_mask'].append(new_tokens['attention_mask'][0])\n",
    "    tokens['input_ids'] = torch.stack(tokens['input_ids'])\n",
    "    tokens['attention_mask'] = torch.stack(tokens['attention_mask'])\n",
    "    with torch.no_grad():\n",
    "        outputs = model(**tokens)\n",
    "    embeddings = outputs.last_hidden_state\n",
    "    attention_mask = tokens['attention_mask']\n",
    "    mask = attention_mask.unsqueeze(-1).expand(embeddings.size()).float()\n",
    "    masked_embeddings = embeddings * mask\n",
    "    summed = torch.sum(masked_embeddings, 1)\n",
    "    summed_mask = torch.clamp(mask.sum(1), min=1e-9)\n",
    "    mean_pooled = summed / summed_mask\n",
    "    \n",
    "    return mean_pooled[0] # assuming query is a single sentence\n",
    "    "
   ]
  },
  {
   "cell_type": "code",
   "execution_count": 302,
   "id": "a1eb20a7-b6aa-419a-9126-adaffa54a191",
   "metadata": {},
   "outputs": [],
   "source": [
    "from sklearn.metrics.pairwise import cosine_similarity"
   ]
  },
  {
   "cell_type": "code",
   "execution_count": 303,
   "id": "6eb96482-d2c3-4d3b-8732-767683bf8614",
   "metadata": {},
   "outputs": [],
   "source": [
    "query = \"yelich\"\n",
    "query_embedding = convert_to_embedding(query)"
   ]
  },
  {
   "cell_type": "code",
   "execution_count": 304,
   "id": "e0f95da6-71d0-47dd-886a-b9ed601e5c7d",
   "metadata": {},
   "outputs": [
    {
     "data": {
      "text/plain": [
       "torch.Size([2578, 384])"
      ]
     },
     "execution_count": 304,
     "metadata": {},
     "output_type": "execute_result"
    }
   ],
   "source": [
    "mean_pooled.shape"
   ]
  },
  {
   "cell_type": "code",
   "execution_count": 305,
   "id": "41a5033c-e6cf-46a8-9653-0d29b0562795",
   "metadata": {},
   "outputs": [
    {
     "data": {
      "text/plain": [
       "tensor([0.5504, 0.4686, 0.4785,  ..., 0.4047, 0.4304, 0.4325])"
      ]
     },
     "execution_count": 305,
     "metadata": {},
     "output_type": "execute_result"
    }
   ],
   "source": [
    "cos = torch.nn.CosineSimilarity()\n",
    "sim = cos(query_embedding, mean_pooled)\n",
    "sim"
   ]
  },
  {
   "cell_type": "markdown",
   "id": "850408bb-8d7c-4f96-9388-d119407938f1",
   "metadata": {},
   "source": [
    "# FAISS"
   ]
  },
  {
   "cell_type": "code",
   "execution_count": 306,
   "id": "bb7c08e3-270f-443c-81b7-85c67ee2dc94",
   "metadata": {},
   "outputs": [
    {
     "name": "stdout",
     "output_type": "stream",
     "text": [
      "True\n",
      "2578\n"
     ]
    }
   ],
   "source": [
    "import faiss                   # make faiss available\n",
    "index = faiss.IndexFlatIP(384) # build the index\n",
    "print(index.is_trained)\n",
    "index.add(mean_pooled)        # add vectors to the index\n",
    "print(index.ntotal)"
   ]
  },
  {
   "cell_type": "code",
   "execution_count": 307,
   "id": "3be0a8c4-61b4-4801-92d7-63cbf6657675",
   "metadata": {},
   "outputs": [
    {
     "data": {
      "text/plain": [
       "torch.Size([2578, 384])"
      ]
     },
     "execution_count": 307,
     "metadata": {},
     "output_type": "execute_result"
    }
   ],
   "source": [
    "mean_pooled.shape"
   ]
  },
  {
   "cell_type": "code",
   "execution_count": 308,
   "id": "d793c9cb-27eb-4505-9e1c-41d85592bd3c",
   "metadata": {},
   "outputs": [
    {
     "data": {
      "text/plain": [
       "torch.Size([384])"
      ]
     },
     "execution_count": 308,
     "metadata": {},
     "output_type": "execute_result"
    }
   ],
   "source": [
    "query_embedding.shape"
   ]
  },
  {
   "cell_type": "code",
   "execution_count": 309,
   "id": "ed57aaed-351a-48d4-bef5-62a39a61834e",
   "metadata": {},
   "outputs": [],
   "source": [
    "D, I = index.search(query_embedding[None, :], 1)"
   ]
  },
  {
   "cell_type": "code",
   "execution_count": 310,
   "id": "6da8a1b8-c0ab-4568-b100-1150addcf9f5",
   "metadata": {},
   "outputs": [
    {
     "data": {
      "text/plain": [
       "array([[46.861103]], dtype=float32)"
      ]
     },
     "execution_count": 310,
     "metadata": {},
     "output_type": "execute_result"
    }
   ],
   "source": [
    "D"
   ]
  },
  {
   "cell_type": "code",
   "execution_count": 311,
   "id": "f6d5efcf-c042-4d43-af51-027d9c158fce",
   "metadata": {},
   "outputs": [
    {
     "data": {
      "text/plain": [
       "array([[6]])"
      ]
     },
     "execution_count": 311,
     "metadata": {},
     "output_type": "execute_result"
    }
   ],
   "source": [
    "I"
   ]
  },
  {
   "cell_type": "code",
   "execution_count": 318,
   "id": "6a94e449-cbd6-4bc8-898c-8b07da14dd33",
   "metadata": {},
   "outputs": [],
   "source": [
    "faiss.write_index(index,\"player_bios_faiss.index\")"
   ]
  },
  {
   "cell_type": "code",
   "execution_count": 319,
   "id": "28123327-d986-493d-a413-b6ed621f4407",
   "metadata": {},
   "outputs": [],
   "source": [
    "index_loaded = faiss.read_index(\"player_bios_faiss.index\")"
   ]
  },
  {
   "cell_type": "code",
   "execution_count": 320,
   "id": "f2fe74a9-69c6-47db-a271-1da7d0989615",
   "metadata": {},
   "outputs": [],
   "source": [
    "num_results = 5\n",
    "D, I = index_loaded.search(query_embedding[None, :], num_results)"
   ]
  },
  {
   "cell_type": "code",
   "execution_count": 321,
   "id": "32287a19-0e0a-4e72-8042-8f1bf431c989",
   "metadata": {},
   "outputs": [
    {
     "data": {
      "text/plain": [
       "array([[46.861103, 46.861103, 40.720448, 40.720448, 40.63079 ]],\n",
       "      dtype=float32)"
      ]
     },
     "execution_count": 321,
     "metadata": {},
     "output_type": "execute_result"
    }
   ],
   "source": [
    "D"
   ]
  },
  {
   "cell_type": "code",
   "execution_count": 322,
   "id": "9b7b7b2f-ab4a-4f26-84a6-417c51951300",
   "metadata": {},
   "outputs": [
    {
     "data": {
      "text/plain": [
       "array([[   7,    6, 1922,  780, 1341]])"
      ]
     },
     "execution_count": 322,
     "metadata": {},
     "output_type": "execute_result"
    }
   ],
   "source": [
    "I"
   ]
  },
  {
   "cell_type": "markdown",
   "id": "00ca72a5-ff4e-4a68-8e7d-b829051bbabd",
   "metadata": {},
   "source": [
    "Let's print out the results of the highest scoring document as a result of our query:"
   ]
  },
  {
   "cell_type": "code",
   "execution_count": 323,
   "id": "34709399-0973-4a45-baa2-7cee5d8dfefb",
   "metadata": {
    "scrolled": true
   },
   "outputs": [
    {
     "name": "stdout",
     "output_type": "stream",
     "text": [
      "doc 7: Christian Yelich made his major league debut in 2013.\n",
      " He hit .455 as a high school senior, with 14 doubles and 9 home runs in 77 at-bats; he also stole 27 bases. Baseball America named him a second-team high school All-American infielder, behind first-teamers Sean Coyle, Nick Delmonico, Manny Machado and Chris Hawkins. He was the first first baseman taken in the 2010 amateur draft. He went 23rd overall, to the Florida Marlins; the scout was Tim McDonnell. He was converted to the outfield after signing with the Marlins (for a $1.7 million bonus) and began his pro career in 2010. He showed he belonged right away, going 3 for 3 with a triple, two runs and two RBI in his pro debut. He saw limited action for the GCL Marlins (9 for 24, 2B, 3B, 2 BB, SB) and Greensboro Grasshoppers (8 for 23, 2 2B, BB) that summer.\n",
      " A teenager in a full-season league in 2011, he more than held his own for Greensboro, hitting .312/.388/.484 with 32 doubles, 15 home runs, 73 runs, 77 RBI and 32 steals in 37 tries. He finished among the South Atlantic League leaders in average (3rd behind Brady Shoemaker and Andrew Clark), OBP (7th), OPS (10th), hits (144, tied for 3rd with Noah Perio), doubles (tied for 9th) and steals (tied for 6th). In the league finale, he helped Greensboro to a title. In game one, he hit a walk-off, two-run, bottom-of-the-15th homer off Jose Monegro. He made the SAL All-Star outfield alongside Brandon Jacobs and Kyle Parker. Baseball America named him the SAL's #5 prospect (behind Bryce Harper, Machado, Jurickson Profar and Jameson Taillon), as the Marlins' top prospect and as the #41 prospect in all of the minors. He won the Marlins Minor League Player of the Year award.\n",
      " With the Jupiter Hammerheads for most of 2012 (he had one game for the GCL Marlins), he hit .330/.404/.519 with 29 doubles, 76 runs and 20 steals while being caught 6 times. He was all over the Florida State League leaderboards: 2nd in average (.012 behind Mike O'Neill), first in slugging (by 36 points), 2nd in OBP (38 points behind O'Neill), first in OPS (.063 ahead of O'Neill), tied for 5th in doubles, 3rd in runs (behind Marcell Ozuna and Ramon Flores) and 7th in total bases (206). He joined O'Neill and Ozuna as the All-Star outfielders. He repeated as Miami's Minor League Player of the Year. Baseball America continued to shower him with praise: #4 prospect in the FSL (behind Jose Fernandez, Gerrit Cole and Taillon), #2 in the Marlins chain after Fernandez, #15 in all of baseball. In the 2012 Futures Game, Yelich entered in the 5th inning of a 17-5 US rout, replacing Anthony Gose in the lineup and taking Wil Myers' spot in right field (Myers moved to center). In the 6th, he singled off Ariel Pena and scored on a Machado double. He came up later in that 9-run inning and drew a walk from Julio Rodriguez. In the 8th, he popped up against Kyle Lotzkar.\n",
      " Yelich's numbers remained good to open 2013 with the Jacksonville Suns (.280/.365/.518, 33 R in 49 G). In the 2013 Futures Game, Christian started for the US at DH, hitting 7th in a 4-2 win. Facing Enny Romero in the second, he doubled home Joc Pederson with the game's first run. In the 4th, he singled off Michael Ynoa to send Pederson to third. A fellow Christian, Christian Walker, batted for him in the 6th. He was called up by the now-Miami Marlins on July 22, 2013, on the same day that they sent down rookie Ozuna, who had started in the outfield for most of the season. He had a very solid debut for the Marlins the next day against the Colorado Rockies, going 3-for-4 with a pair of RBIs in a 4-2 win. He batted second and played left field, singling to right off Jhoulys Chacin in the 1st inning for his first career hit, and then adding an RBI single in the 3rd and another RBI single in the 5th. He was the third player in team history to collect three hits in his debut, following Mike Redmond - now his manager - and teammate Giancarlo Stanton (who had been signed by the same scout, McDonnell). He hit his first career home run on August 8th against Gerrit Cole of the Pittsburgh Pirates. He hit .288/.370/.396 for a 112 OPS+ in 63 games, while playing error-free ball in the outfield. He was the third-youngest player in the 2013 NL behind Bryce Harper and Jose Fernandez. He was named to the 2013 Topps All-Star Rookie Team outfield alongside Wil Myers and Yasiel Puig.\n",
      " He continued to play well in 2014, getting into 144 games for the Marlins as their starting left fielder. Not only did he earn a Gold Glove for his defensive play at the position, but he also hit a respectable .284 with 9 homers and 54 RBI, scoring 94 runs and stealing 21 bases in 28 attempts. His OPS+ was a solid 112. The Marlins considered that he was one of the main building blocks of their young team, alongside Stanton and Fernandez, and during spring training in 2015 signed him to a seven-year contract extension worth $50 million. He responded by hitting .300 in 126 games with 7 homers and 44 RBIs. In 2016, he took a big step forward offensively as he won a Silver Slugger Award for his bat in the outfield. In 155 games, he hit.298 with 38 doubles, 21 homers and 98 RBIs. He also got consideration in the MVP voting for the first time, getting some down-ballot support to finish 19th. Playing alongside Giancarlo Stanton and Marcell Ozuna, he was part of one of the most productive outfields in all of the major leagues. It looked like the Marlins were finally building a team that could compete with anyone, until tragedy struck at the end of the season with the death of their pitching ace, Jose Fernandez, in a boating accident that shook the team to its foundations.\n",
      " 2017 was another disappointing season for the team, even though the outfield continued to perform extremely well. On July 26th, the Marlins set a team record by scoring 22 runs in defeating the Texas Rangers 22-10, and Christian was at the center of things. He hit a solo homer in the 1st as part of a 4-for-5 day during which he also banged three doubles. He ended the season at .282 in 156 games, with 36 doubles, 18 homers, 100 runs scored and 81 RBIs. As good as that was, his two outfield partners, Stanton and Ozuna, did even better and both won a Silver Slugger Award. However all three were gone by the start of the 2018 season, as a result of a fire sale ordained by the new ownership team of Bruce Sherman and Derek Jeter. Stanton and Ozuna were traded at the start of the off-season, then Yelich followed on January 25, 2018 when he was sent to the Milwaukee Brewers in return for four prospects: Lewis Brinson, Monte Harrison, Isan Diaz and Jordan Yamamoto.\n",
      " He had an outstanding first few games with the Brewers in 2018, going 7 for 14, including a five-hit game against the San Diego Padres on March 31st in a 7-3 win. he was hitting .385 after 6 games when he missed some games with an oblique injury, prompting the Brewers to place him on the disabled list on April 8th. He returned to action on April 18th. He made the All-Star team for the first time that summer, after hitting .292 with 11 homers and 43 RBIs in the first half, then got even better after the break. On August 29th, he had a career game as he went 6-for-6 and hit for the cycle; all of his contributions were needed as the Brewers squeaked by the Cincinnati Reds, 13-12, in 10 innings. On September 17th, he hit for the cycle again, and again against the Reds, this time in an 8-0 win; he completed the feat in just 6 innings, and then was removed from the game. He became just the fifth player to hit two cycles in a season - the last had been Aaron Hill in 2012 - and the first to do so against the same team. On September 25th, he drove in a career-high 6 runs in a 12-4 win over the St. Louis Cardinals; that pushed him to 100 RBIs in a season for the first time. On the penultimate day of the season, September 29th, he homered twice to lead the Brewers to a 6-5 win over the Detroit Tigers; combined with a loss by the Chicago Cubs, this put the Brewers in a first-place tie in the NL Central with one game left to play. They won the final game and the one-game playoff on October 1st, finishing the season with 8 straight wins, while Yelich clinched the batting title. He was then named the National League Player of the Month for September, on the strength of his .370 batting average, 10 homers and 34 RBIs. He finished the season at .326 with 36 homers and 110 RBIs, also leading the NL with a .598 slugging percentage. He was voted the winner of the  2018 National League Most Valuable Player Award. In the postseason, he went 2 for 8 with 4 runs scored, the result of 6 walks, in the Brewers' win over the Colorado Rockies in the Division Series. However, in the NLCS against the Los Angeles Dodgers, he was just 5 for 28 (.179), his lone RBI coming on a solo homer.\n",
      " Yelich started off the 2019 season with a bang, as he homered in each of the Brewers' first four games, all against the St. Louis Cardinals, to tie a major league record. He had another night to remember on April 15th. It started with an \"aw shucks\" story, as on March 30th, a couple of adorable young girls, aged 6 and 4, had brought a sign to the ballpark reading \"Yelich: Hit a Homerun and my Dad Buys Me a Puppy!\" The sign went viral and Yelich did hit a long ball in that game, and - not in strict accordance to the sign, however - hand-delivered an equally adorable puppy to the lucky sisters before the game. The puppy, to be named Yeli, of course, was to be trained as a diabetes-sniffing dog, as the older sister suffers from type 1 diabetes and needs around-the-clock monitoring of her condition. Yelich then went on to do what he does best, demolish opposition pitching, banging three homers and driving in 7 runs to lead the Brewers to a 10-7 win over the Cardinals. It was the first three-homer game of his career. He followed that with a three-run homer the next day, to lead his team to another win over the Cards, 8-4. On April 20th, he had a two-homer game in a 5-0 win over the Dodgers, giving him 13 for the season - all hit at home! The 13 long balls tied Prince Fielder's franchise record for most homers hit in any month. On April 27th, he hit his first road homer of the year, tying him for the all-time record for homers before May 1st of 14 held by Albert Pujols and Alex Rodriguez. Cody Bellinger joined him on that exclusive list the next day. Yelich then exited the game of April 28th with a stiff lower back and missed the next game as well. On May 24th, he became the first major leaguer to reach the 20-homer mark; he was fastest in franchise history to the mark, doing so in his 45th game, besting the 58 that Fielder had needed in 2007 on his way to hitting a club record 50 long balls. He was also the first major leaguer to hit 30 homers and was named as a starter on the All-Star Game and the #1 seed in the Home Run Derby. When practicing for the Derby on July 5th at Pittsburgh's PNC Park, he hit a ball so hard that it broke a window on a boat moored on the Allegheny River outside the park. \"The legend of Yeli,\" teammate Ryan Braun told reporters. \"That’s how legends are made.\" However, he withdrew from the contest at the last minute, because of a back issue. On September 7th, he stole his 30th base, which gave him not only a 30-30 season (30 HRs and 30 SBs), but also only the 12th 40-30 season in history. Unfortunately, his season ended abruptly only a few days later, on September 10th, when he fractured a kneecap when he lined a foul ball directly into his knee in the 1st inning of a game against the Miami Marlins. He was hitting .329 in 130 games, with 44 homers and 97 RBIs. He was leading the league with an OBP of .429, a slugging percentage of .671 and an OPS of 1.100. Obviously, his injury was a huge blow to the Brewers' postseason chances. Indeed he was unable to return and missed the Wild Card Game in which the Brewers were eliminated by the Washington Nationals. However, he did win the batting title for the second straight year.\n",
      " On March 6, 2020, he signed a contract extension for nine years worth $187.25 million. He started the season that was delayed and shortened by the Coronavirus pandemic in a bad slump, going 1 for 27 in his first 6 games in July, his only hit being a long ball. He did better after the calendar turned to August and on August 6th hit his second homer on an unusual play. His hit to deep left field against the Chicago White Sox bounced in front of LF Eloy Jimenez, but when he tried to snag it, he got tangled up in the netting meant to protect the (non-existent) fans from foul balls hit down the left field line, while the ball rolled into the corner. By the time Jimenez had extricated himself, recovered the ball and relayed it back to the infield, Yelich had had time to circle the bases for an inside-the-park homer. He finished the season at .205 in 58 games, with 12 homers and 22 RBIs, his OPS+ falling to 110. In the postseason, the Brewers were swept in two games by the Dodgers in the Wild Card Series while he went 2 for 9 with a double. 2021 was another down year - even worse than the previous one in fact. Injuries limited him to 117 games, during which he batted .248, but with almost no power: just 9 homers and a .373 slugging percentage. His OPS+ fell some more, to 99, but the Brewers still managed to claim a division title, making it to the postseason for the fourth straight year. They faced the Atlanta Braves in the Division Series and Yelich continued to struggle, going 3 for 15 with no esxtra-base hits or RBIs in the four games.\n",
      " Heading into the 2022, there were questions about whether Christian was done as a productive major league hitter. He didn't really assuage these as batted just .230 in April, with 3 homers. He did show a flash of his former greatness on May 11th, when he hit for the cycle for the third time of his career, joining an exclusive club that only numbered four other players: Long John Reilly, Bob Meusel, Babe Herman and Adrian Beltre. Like the previous two time, the feat came against the Cincinnati Reds, making him the only man to victimize the same team three times, although this once came in a loss, a 14-11 slugfest. On September 6th, he was credited with the longest homer hit by any player in the majors that season when he hit a ball at a distance of 499 feet against Chad Kuhl of the Colorado Rockies; it was in fact the third longest homer of the Statcast era, behind monster shots by Nomar Mazara and Giancarlo Stanton that had both traveled over 500 feet. However, it was only his 12th homer of the year, which, while better than the previous year's total of 9, was still way off the pace of the years when he was one of the most dominant hitters in the majors.\n",
      "doc 6: Christian Yelich made his major league debut in 2013.\n",
      " He hit .455 as a high school senior, with 14 doubles and 9 home runs in 77 at-bats; he also stole 27 bases. Baseball America named him a second-team high school All-American infielder, behind first-teamers Sean Coyle, Nick Delmonico, Manny Machado and Chris Hawkins. He was the first first baseman taken in the 2010 amateur draft. He went 23rd overall, to the Florida Marlins; the scout was Tim McDonnell. He was converted to the outfield after signing with the Marlins (for a $1.7 million bonus) and began his pro career in 2010. He showed he belonged right away, going 3 for 3 with a triple, two runs and two RBI in his pro debut. He saw limited action for the GCL Marlins (9 for 24, 2B, 3B, 2 BB, SB) and Greensboro Grasshoppers (8 for 23, 2 2B, BB) that summer.\n",
      " A teenager in a full-season league in 2011, he more than held his own for Greensboro, hitting .312/.388/.484 with 32 doubles, 15 home runs, 73 runs, 77 RBI and 32 steals in 37 tries. He finished among the South Atlantic League leaders in average (3rd behind Brady Shoemaker and Andrew Clark), OBP (7th), OPS (10th), hits (144, tied for 3rd with Noah Perio), doubles (tied for 9th) and steals (tied for 6th). In the league finale, he helped Greensboro to a title. In game one, he hit a walk-off, two-run, bottom-of-the-15th homer off Jose Monegro. He made the SAL All-Star outfield alongside Brandon Jacobs and Kyle Parker. Baseball America named him the SAL's #5 prospect (behind Bryce Harper, Machado, Jurickson Profar and Jameson Taillon), as the Marlins' top prospect and as the #41 prospect in all of the minors. He won the Marlins Minor League Player of the Year award.\n",
      " With the Jupiter Hammerheads for most of 2012 (he had one game for the GCL Marlins), he hit .330/.404/.519 with 29 doubles, 76 runs and 20 steals while being caught 6 times. He was all over the Florida State League leaderboards: 2nd in average (.012 behind Mike O'Neill), first in slugging (by 36 points), 2nd in OBP (38 points behind O'Neill), first in OPS (.063 ahead of O'Neill), tied for 5th in doubles, 3rd in runs (behind Marcell Ozuna and Ramon Flores) and 7th in total bases (206). He joined O'Neill and Ozuna as the All-Star outfielders. He repeated as Miami's Minor League Player of the Year. Baseball America continued to shower him with praise: #4 prospect in the FSL (behind Jose Fernandez, Gerrit Cole and Taillon), #2 in the Marlins chain after Fernandez, #15 in all of baseball. In the 2012 Futures Game, Yelich entered in the 5th inning of a 17-5 US rout, replacing Anthony Gose in the lineup and taking Wil Myers' spot in right field (Myers moved to center). In the 6th, he singled off Ariel Pena and scored on a Machado double. He came up later in that 9-run inning and drew a walk from Julio Rodriguez. In the 8th, he popped up against Kyle Lotzkar.\n",
      " Yelich's numbers remained good to open 2013 with the Jacksonville Suns (.280/.365/.518, 33 R in 49 G). In the 2013 Futures Game, Christian started for the US at DH, hitting 7th in a 4-2 win. Facing Enny Romero in the second, he doubled home Joc Pederson with the game's first run. In the 4th, he singled off Michael Ynoa to send Pederson to third. A fellow Christian, Christian Walker, batted for him in the 6th. He was called up by the now-Miami Marlins on July 22, 2013, on the same day that they sent down rookie Ozuna, who had started in the outfield for most of the season. He had a very solid debut for the Marlins the next day against the Colorado Rockies, going 3-for-4 with a pair of RBIs in a 4-2 win. He batted second and played left field, singling to right off Jhoulys Chacin in the 1st inning for his first career hit, and then adding an RBI single in the 3rd and another RBI single in the 5th. He was the third player in team history to collect three hits in his debut, following Mike Redmond - now his manager - and teammate Giancarlo Stanton (who had been signed by the same scout, McDonnell). He hit his first career home run on August 8th against Gerrit Cole of the Pittsburgh Pirates. He hit .288/.370/.396 for a 112 OPS+ in 63 games, while playing error-free ball in the outfield. He was the third-youngest player in the 2013 NL behind Bryce Harper and Jose Fernandez. He was named to the 2013 Topps All-Star Rookie Team outfield alongside Wil Myers and Yasiel Puig.\n",
      " He continued to play well in 2014, getting into 144 games for the Marlins as their starting left fielder. Not only did he earn a Gold Glove for his defensive play at the position, but he also hit a respectable .284 with 9 homers and 54 RBI, scoring 94 runs and stealing 21 bases in 28 attempts. His OPS+ was a solid 112. The Marlins considered that he was one of the main building blocks of their young team, alongside Stanton and Fernandez, and during spring training in 2015 signed him to a seven-year contract extension worth $50 million. He responded by hitting .300 in 126 games with 7 homers and 44 RBIs. In 2016, he took a big step forward offensively as he won a Silver Slugger Award for his bat in the outfield. In 155 games, he hit.298 with 38 doubles, 21 homers and 98 RBIs. He also got consideration in the MVP voting for the first time, getting some down-ballot support to finish 19th. Playing alongside Giancarlo Stanton and Marcell Ozuna, he was part of one of the most productive outfields in all of the major leagues. It looked like the Marlins were finally building a team that could compete with anyone, until tragedy struck at the end of the season with the death of their pitching ace, Jose Fernandez, in a boating accident that shook the team to its foundations.\n",
      " 2017 was another disappointing season for the team, even though the outfield continued to perform extremely well. On July 26th, the Marlins set a team record by scoring 22 runs in defeating the Texas Rangers 22-10, and Christian was at the center of things. He hit a solo homer in the 1st as part of a 4-for-5 day during which he also banged three doubles. He ended the season at .282 in 156 games, with 36 doubles, 18 homers, 100 runs scored and 81 RBIs. As good as that was, his two outfield partners, Stanton and Ozuna, did even better and both won a Silver Slugger Award. However all three were gone by the start of the 2018 season, as a result of a fire sale ordained by the new ownership team of Bruce Sherman and Derek Jeter. Stanton and Ozuna were traded at the start of the off-season, then Yelich followed on January 25, 2018 when he was sent to the Milwaukee Brewers in return for four prospects: Lewis Brinson, Monte Harrison, Isan Diaz and Jordan Yamamoto.\n",
      " He had an outstanding first few games with the Brewers in 2018, going 7 for 14, including a five-hit game against the San Diego Padres on March 31st in a 7-3 win. he was hitting .385 after 6 games when he missed some games with an oblique injury, prompting the Brewers to place him on the disabled list on April 8th. He returned to action on April 18th. He made the All-Star team for the first time that summer, after hitting .292 with 11 homers and 43 RBIs in the first half, then got even better after the break. On August 29th, he had a career game as he went 6-for-6 and hit for the cycle; all of his contributions were needed as the Brewers squeaked by the Cincinnati Reds, 13-12, in 10 innings. On September 17th, he hit for the cycle again, and again against the Reds, this time in an 8-0 win; he completed the feat in just 6 innings, and then was removed from the game. He became just the fifth player to hit two cycles in a season - the last had been Aaron Hill in 2012 - and the first to do so against the same team. On September 25th, he drove in a career-high 6 runs in a 12-4 win over the St. Louis Cardinals; that pushed him to 100 RBIs in a season for the first time. On the penultimate day of the season, September 29th, he homered twice to lead the Brewers to a 6-5 win over the Detroit Tigers; combined with a loss by the Chicago Cubs, this put the Brewers in a first-place tie in the NL Central with one game left to play. They won the final game and the one-game playoff on October 1st, finishing the season with 8 straight wins, while Yelich clinched the batting title. He was then named the National League Player of the Month for September, on the strength of his .370 batting average, 10 homers and 34 RBIs. He finished the season at .326 with 36 homers and 110 RBIs, also leading the NL with a .598 slugging percentage. He was voted the winner of the  2018 National League Most Valuable Player Award. In the postseason, he went 2 for 8 with 4 runs scored, the result of 6 walks, in the Brewers' win over the Colorado Rockies in the Division Series. However, in the NLCS against the Los Angeles Dodgers, he was just 5 for 28 (.179), his lone RBI coming on a solo homer.\n",
      " Yelich started off the 2019 season with a bang, as he homered in each of the Brewers' first four games, all against the St. Louis Cardinals, to tie a major league record. He had another night to remember on April 15th. It started with an \"aw shucks\" story, as on March 30th, a couple of adorable young girls, aged 6 and 4, had brought a sign to the ballpark reading \"Yelich: Hit a Homerun and my Dad Buys Me a Puppy!\" The sign went viral and Yelich did hit a long ball in that game, and - not in strict accordance to the sign, however - hand-delivered an equally adorable puppy to the lucky sisters before the game. The puppy, to be named Yeli, of course, was to be trained as a diabetes-sniffing dog, as the older sister suffers from type 1 diabetes and needs around-the-clock monitoring of her condition. Yelich then went on to do what he does best, demolish opposition pitching, banging three homers and driving in 7 runs to lead the Brewers to a 10-7 win over the Cardinals. It was the first three-homer game of his career. He followed that with a three-run homer the next day, to lead his team to another win over the Cards, 8-4. On April 20th, he had a two-homer game in a 5-0 win over the Dodgers, giving him 13 for the season - all hit at home! The 13 long balls tied Prince Fielder's franchise record for most homers hit in any month. On April 27th, he hit his first road homer of the year, tying him for the all-time record for homers before May 1st of 14 held by Albert Pujols and Alex Rodriguez. Cody Bellinger joined him on that exclusive list the next day. Yelich then exited the game of April 28th with a stiff lower back and missed the next game as well. On May 24th, he became the first major leaguer to reach the 20-homer mark; he was fastest in franchise history to the mark, doing so in his 45th game, besting the 58 that Fielder had needed in 2007 on his way to hitting a club record 50 long balls. He was also the first major leaguer to hit 30 homers and was named as a starter on the All-Star Game and the #1 seed in the Home Run Derby. When practicing for the Derby on July 5th at Pittsburgh's PNC Park, he hit a ball so hard that it broke a window on a boat moored on the Allegheny River outside the park. \"The legend of Yeli,\" teammate Ryan Braun told reporters. \"That’s how legends are made.\" However, he withdrew from the contest at the last minute, because of a back issue. On September 7th, he stole his 30th base, which gave him not only a 30-30 season (30 HRs and 30 SBs), but also only the 12th 40-30 season in history. Unfortunately, his season ended abruptly only a few days later, on September 10th, when he fractured a kneecap when he lined a foul ball directly into his knee in the 1st inning of a game against the Miami Marlins. He was hitting .329 in 130 games, with 44 homers and 97 RBIs. He was leading the league with an OBP of .429, a slugging percentage of .671 and an OPS of 1.100. Obviously, his injury was a huge blow to the Brewers' postseason chances. Indeed he was unable to return and missed the Wild Card Game in which the Brewers were eliminated by the Washington Nationals. However, he did win the batting title for the second straight year.\n",
      " On March 6, 2020, he signed a contract extension for nine years worth $187.25 million. He started the season that was delayed and shortened by the Coronavirus pandemic in a bad slump, going 1 for 27 in his first 6 games in July, his only hit being a long ball. He did better after the calendar turned to August and on August 6th hit his second homer on an unusual play. His hit to deep left field against the Chicago White Sox bounced in front of LF Eloy Jimenez, but when he tried to snag it, he got tangled up in the netting meant to protect the (non-existent) fans from foul balls hit down the left field line, while the ball rolled into the corner. By the time Jimenez had extricated himself, recovered the ball and relayed it back to the infield, Yelich had had time to circle the bases for an inside-the-park homer. He finished the season at .205 in 58 games, with 12 homers and 22 RBIs, his OPS+ falling to 110. In the postseason, the Brewers were swept in two games by the Dodgers in the Wild Card Series while he went 2 for 9 with a double. 2021 was another down year - even worse than the previous one in fact. Injuries limited him to 117 games, during which he batted .248, but with almost no power: just 9 homers and a .373 slugging percentage. His OPS+ fell some more, to 99, but the Brewers still managed to claim a division title, making it to the postseason for the fourth straight year. They faced the Atlanta Braves in the Division Series and Yelich continued to struggle, going 3 for 15 with no esxtra-base hits or RBIs in the four games.\n",
      " Heading into the 2022, there were questions about whether Christian was done as a productive major league hitter. He didn't really assuage these as batted just .230 in April, with 3 homers. He did show a flash of his former greatness on May 11th, when he hit for the cycle for the third time of his career, joining an exclusive club that only numbered four other players: Long John Reilly, Bob Meusel, Babe Herman and Adrian Beltre. Like the previous two time, the feat came against the Cincinnati Reds, making him the only man to victimize the same team three times, although this once came in a loss, a 14-11 slugfest. On September 6th, he was credited with the longest homer hit by any player in the majors that season when he hit a ball at a distance of 499 feet against Chad Kuhl of the Colorado Rockies; it was in fact the third longest homer of the Statcast era, behind monster shots by Nomar Mazara and Giancarlo Stanton that had both traveled over 500 feet. However, it was only his 12th homer of the year, which, while better than the previous year's total of 9, was still way off the pace of the years when he was one of the most dominant hitters in the majors.\n",
      "doc 1922: Catcher Yainier Díaz played for the American League team in the 2022 Futures Game. He was obtained by the Houston Astros from the Cleveland Indians along with P Phil Maton in return for OF Myles Straw on July 30, 2021. He made his big league debut for the Astros on September 2, 2022, starting at DH against the Los Angeles Angels, going 0 for 3 with a walk and an RBI.\n",
      "doc 780: Catcher Yainier Díaz played for the American League team in the 2022 Futures Game. He was obtained by the Houston Astros from the Cleveland Indians along with P Phil Maton in return for OF Myles Straw on July 30, 2021. He made his big league debut for the Astros on September 2, 2022, starting at DH against the Los Angeles Angels, going 0 for 3 with a walk and an RBI.\n",
      "doc 1341: Yadier Molina is a prolific All-Star catcher, making 9 All-Star Game appearances and winning 9 Gold Gloves through 2019. His brothers, Bengie Molina and Jose Molina, have both been catchers in the Major Leagues. He played in the first four World Baseball Classics.\n",
      " Molina was drafted by the St. Louis Cardinals in the 4th round of the 2000 amateur draft. He hit .259/.320/.405 for the Johnson City Cardinals in his pro debut the next summer and threw out 43% of attempted base-stealers. Baseball America named him St. Louis's #7 prospect. His offense remained steady with the 2002 Peoria Chiefs (.280/.331/.384) but he showed off an even strong arm, throwing out 52.6% of would-be base thieves. He led Midwest League backstops in assists (140) and double plays (9) and only fanned 36 times in 393 at-bats, the second-lowest rate in the MWL. Baseball America ranked him as the #10 prospect in the Cardinals chain. In 2003, he produced at a .275/.327/.332 clip and threw out 42% of base-stealers for the Tennessee Smokies. Baseball America now put him down as the #4 prospect in the St. Louis system. He began 2004 with the Memphis Redbirds and was hitting .302/.387/.372 after 37 games when Mike Matheny (his future manager) was hurt and Molina was called to the majors for good. \n",
      " Yadier hit .267/.329/.356 in 51 games for the 2004 Cardinals, backing up Matheny. He threw out 8 of 17 players who tried to steal. He had a fine MLB debut: his first time up, he was retired by Oliver Perez, but he singled his next trip to the plate, then doubled in the 7th and was driven in by Woody Williams. In the 8th, he was retired by Mark Corey. He also tagged out Abe Nunez at the plate. His first MLB homer came in late September when he took Matt Wise deep to break a 2-2 tie. He saw little action in the playoffs, sitting out the NLDS and getting into one game in the 2004 NLCS (1 for 4, a single off Roy Oswalt). In the 2004 World Series, he was 0 for 3 as Matheny's backup as the Cards lost to the Red Sox. He hit .297 for the Gigantes de Carolina in the 2004-2005 Puerto Rican Winter League, finishing 10th in average. \n",
      " He became the starting backstop for the Cardinals in 2005 at age 22. He was the youngest NL catcher to start on Opening Day since Jason Kendall of the 1996 Pirates. Molina hit only .252/.295/.358 for a 70 OPS+ but was superb on defense, with 9 pickoffs and a 64% caught stealing rate. He allowed the fewest steals (14) by a MLB catcher with 100+ starts, 17 ahead of runner-up Joe Mauer. In the 2005 NL, he was second in assists at catcher (66, 4 behind Matheny), 5th in errors (7), tied for first in passed balls (8, even with Humberto Cota), first in percentage caught stealing and tied for 5th in runners caught stealing (even with Jason LaRue). Matheny won the Gold Glove instead, his third in a row (he was now with the Giants). Molina missed over a month after being hit by Claudio Vargas on July 7, giving him a hairline fracture in his left hand. He was back in form by the postseason. He was 3 for 13 with a run and 3 RBI in the NLDS and 7 for 22 with 3 doubles and a run in the 2005 NLCS, which St. Louis lost to Houston. \n",
      " In the 2006 World Baseball Classic, he backed up the legendary Ivan Rodriguez for Puerto Rico and did very well, going 3 for 5 with a run and a RBI. He had a miserable offensive campaign for the 2006 Cardinals (.216/.274/.321, 53 OPS+, 29 R, 49 RBI) but they kept him in for his defense, as he fielded .995 and threw out 47% of runners who tried to steal. On May 28, he ended a game by picking off Brian Giles, the first catcher pickoff to end a game since Rodriguez had done it in 2002. He was among the 2006 NL leaders in catchers' fielding in games (127, 2nd to Brad Ausmus), assists (79, 1st by 7 over Ronny Paulino), passed balls (7, tied for 5th with Mike Piazza), caught stealing (4th), caught stealing percentage (3rd behind Matt Treanor and Chris Snyder) and fielding percentage (4th). Ausmus got the Gold Glove that time. He kicked it up a few notches in the postseason, when he led Cardinals in hits (19), total bases (29) and average (.358) and was second to Jim Edmonds in RBI (8). His 9th-inning homer off Aaron Heilman broke a 1-1 tie in Game 7 of the NLCS. In the World Series clincher over Detroit, he had 3 hits and 2 runs in a game started by Justin Verlander. The World Series MVP went to David Eckstein, who had similar numbers. In the winter, he again played for the Gigantes, going 3 for 16 with a double, 2 walks, a run and 2 RBI in the 2007 Caribbean Series, his heroics from the 2006 major league postseason not carrying over to the Caribbean. \n",
      " His hitting improved in 2007 as he hit .275/.340/.368 for a 85 OPS+. He threw out 54% of those who ran on him and fielded .991. He missed time with another injury, this one when future teammate Matt Holliday tipped a foul off his wrist. He also had season-ending right knee surgery in late September. Positives for the year included a 15-game hitting streak, best by a St. Louis backstop since Erik Pappas. He tied Miguel Olivo for the most passed balls (16) in the 2007 NL, tied Paulino for third in runners gunned down (27) and led in caught stealing percentage (13% ahead of runner-up David Ross). He led all major league catchers in percentage gunned down, slightly ahead of Mauer. Russell Martin got the Gold Glove.\n",
      " While Molina's defense was down in 2008 (.986 FLD%, 35% CS), his offense continued to improve (.304/.349/.392, 37 runs scored, 56 RBI, 96 OPS+). He came up big on June 15; in a 9th-inning home plate collision with a 6-6 game, he hung onto the ball to prevent a loss; St. Louis won in the 10th, with LaRue replacing Molina in the game as he had to be removed on a stretcher. He missed 3 days due to a concussion. His first game back, he homered off Hideki Okajima in a 5-4 win over Boston. He had the most hits (135) by a Cardinals catcher since Ted Simmons in 1980 and became the second Cardinal backstop to hit .300+ in 450+ plate appearances, following Simmons. For the year, he was among the 2008 NL leaders in assists at catcher (70, tied for third with Brian McCann and Snyder), errors (10, 2nd to Martin) and steal percentage (tied for second with brother Bengie, behind Kendall). Despite one of his weaker years defensively, he still won his first Gold Glove; his brother Bengie had taken two in 2002-2003. \n",
      " In the 2009 World Baseball Classic, Molina not only backed up Rodriguez but also Geovany Soto. He was 1 for 6, but his hit was a biggie. Down 1-0 in the bottom of the 8th against the Dutch national team, he doubled off Leon Boyd to score Alex Rios with the game-tying run and Mike Aviles with the game-winner. His regular-season progress at the plate continued (.293/.366/.383, 100 OPS+ while his defense rebounded (.995%, 41% CS). He finished among the 2009 NL leaders in double play grounders (27, 2nd to Miguel Tejada), strikeout rate (12.3 AB/K, second to Tejada), games caught (138, 1st), putouts at catcher (884, 4th), assists at catcher (82, 2nd to Martin), caught stealing percentage (3rd behind Ross and Ryan Hanigan), pickoffs (8, 1st) and fielding percentage (tied for third with brother Bengie). He won his second straight Gold Glove. He also started a run as an All-Star. Starting for the NL behind the plate in the 2009 All-Star Game, he drove in the NL's first runs. Down 2-0 in the second, he singled off Roy Halladay to score David Wright; an error on the play brought in Shane Victorino as well. He scored on a double by Prince Fielder. He was retired by Edwin Jackson in the 5th then left for pinch-hitter McCann in the 8th in a 4-3 loss. He was 4 for 13 with a double in the NLDS as the Cards lost to L.A.. \n",
      " Molina's offensive performance fell to .262/.329/.342 for a 84 OPS+ for the 2010 Cardinals while he fielded .995 and threw out 49% of runners trying to steal. He hit a grand slam on Opening Day off Nick Masset to a cap a 11-6 win over Cincinnati, the third Cardinal to hit a grand slam on Opening Day (Mark McGwire and Scott Rolen had done it before). He finished among the 2010 NL leaders in double play grounders (19, 9th), lowest strikeout rate (9.1 AB/K, 6th, between Orlando Cabrera and Jose Reyes), putouts at C (895, 2nd to McCann), games caught (135, one behind McCann), assists (79, 1st by 15 over McCann), double plays (10, 2nd to McCann), passed balls (7, tied for third with Yorvit Torrealba and Jason Castro), caught stealing (33, tied for second with Olivo behind McCann), caught stealing percentage (1st, 6.2% over Olivo) and fielding percentage (4th) en route to a third straight Gold Glove. He missed the last 12 games of the year with right knee soreness. Among MLB catchers, he led in percentage caught stealing, 4.4% ahead of brother Jose. In the 2010 All-Star Game, he started and hit 9th for the NL. He singled off Andy Pettitte in the third inning before being yanked in favor of pinch-hitter McCann in the 5th.\n",
      " Molina's offensive game picked up incredibly (.305/.349/.465, 32 doubles, 14 HR, 124 OPS+) in 2011 while his defense was worse (29% CS, .995 FLD%). He was a backup to McCann in the 2011 All-Star Game, replacing him in the 5th and doubling off Chris Perez in the 6th. Jay Bruce batted for him in the 8th. He was 8th in the 2011 NL in average (between Aramis Ramirez and Michael Morse), tied Holliday for second in double play grounders (21), was second in lowest strikeout rate (10.8 AB/K, behind Reyes) and first in games caught (137). Despite not making the leaders in any other defensive department, he still won the Gold Glove, while he had not won earlier in his career when his defense was sharper and his offense worse (reinforcing claims the Gold Glove honors offense as much as defense). He was 4 for 19 with a run and a RBI in the NLDS, then improved to .333/.385/.458 with 5 runs in 6 games in the NLCS. In the 2011 World Series, he batted .333/.417/.407 for the champion Cardinals, with 9 RBI in 7 games; he had 4 RBI in Game 3, 3 hits in Game 5 and 2 RBI apiece in Game 6 and 7. It was the most RBI by a catcher in a World Series since fellow Puerto Rican Sandy Alomar Jr. in 1997 and the most hits in a postseason (20) by a catcher since Ivan Rodriguez in 2003. David Freese was named Series MVP.\n",
      " He had an all-around strong season for the 2012 Cardinals: .315/.373/.501, 22 HR, 65 runs scored, 76 RBI, 137 OPS+, .997 fielding percentage, 48% of runners caught stealing. He led major league backstops with 12 steals and was four homers shy of Simmons for the record by a Cardinal catcher. He also became the first catcher to lead St. Louis in average in back-to-back seasons. He was picked for the 2012 All-Star Game but missed due to bereavement leave for the passing of his wife's grandfather. He finished on the 2012 NL leaderboard in average (4th behind Buster Posey, Andrew McCutchen and Ryan Braun), OPS+ (tied for 7th with teammate Allen Craig), strikeout rate (9.2 AB/K, 6th, between Darwin Barney and Martin Prado), putouts at C (962, 3rd), games caught (136, 2nd, 3 behind Miguel Montero), assists at C (88, 1st by one over A.J. Ellis), double plays at C (12, tied for first with Ellis), caught stealing (35, 3rd behind Posey and Ellis), fielding percentage (2nd to McCann) and caught stealing % (2nd to Hanigan). He won the Gold Glove and finished 4th in voting for the 2012 NL MVP behind Posey, Braun and McCutchen. He was 0 for 4 in the 2012 NL Wild Card Game and 2 for 17 with 5 walks, 3 runs and a RBI in the NLDS. In the 2012 NLCS, he had 11 hits (.393/.393/.429) in 7 games but St. Louis fell to San Francisco as his teammates hit just .193.\n",
      " He finally got his chance to start for Puerto Rico in a World Baseball Classic in his third try, 2013. He was 7 for 27 with a walk, two runs and no RBI in 7 games as Puerto Rico went to the finals. In the finale, he hit cleanup but came up with a poor day, fanning against Samuel Deduno in the first. In the fourth, he came up with Carlos Beltran on board, no outs and a 2-0 deficit but hit into a double play. He grounded out against Octavio Dotel in the 6th and Santiago Casilla in the 8th and Puerto Rico fell, 3-0, to the Dominican national team. Despite his mediocre performance, he was voted the tourney's All-Star catcher, following in Rodriguez's footsteps from 2009. \n",
      " He hit .319/.359/.477 with 44 doubles, 80 RBI and a 131 OPS+ for the 2013 Cardinals. In the 2013 All-Star Game, he started and hit 6th for the NL, retired by Chris Sale and Matt Moore before being replaced by Posey. He finished 4th in the 2013 NL in average (behind Michael Cuddyer, Chris Johnson and Freddie Freeman), second in doubles (11 behind Matt Carpenter), 5th in strikeout rate (between Andrelton Simmons and Denard Span), first in games caught (131), 1st in putouts at C (976), tied for 5th in catcher assists (63, even with Nick Hundley and Wilin Rosario), second in catcher double plays (11, one behind Hundley), third in fielding percentage at C (behind Martin and Ellis) and third in caught stealing percent (behind Hanigan and Ellis). He won another Gold Glove. He hit .294/.400/.529 with a homer off Gerrit Cole in the NLDS. In the 2013 NLCS, he fared worse at .227/.320/.277 but St. Louis still advanced to the 2013 World Series, his 4th World Series appearance in 10 seasons to that point. He showed good contact in the Series (7 for 23) but had only one walk, one double, no runs and two RBI as St. Louis fell to Boston. He finished third in voting for the 2013 National League Most Valuable Player Award behind Andrew McCutchen and Paul Goldschmidt, getting the two first-place votes that did not go to McCutchen.\n",
      " Molina was once again voted the starting catcher for the National League in the 2014 All-Star Game, but this time, he did not play, as he suffered a ligament tear in his thumb when sliding into third base in a game on July 9th. The injury required surgery and forced him to miss many weeks of action, as he only returned to play on August 29th. As a result, he played only 110 games, his lowest total since his rookie season, hitting .282 with 7 homers and 38 RBI. His health was also a concern in the postseason, as he had to leave Game 2 of the NLCS against the San Francisco Giants on October 12th, when he aggravated a pulled oblique muscle. He doubled over in pain after hitting a ground ball and was unable to run to first base, resulting in a double play. He was escorted from the field and it looked like he was done for the series, and possibly even beyond, but the next day the Cardinals said he would not be placed on the disabled list, implying that they were hoping for a return before the end of the Championship Series. In the meantime, the Cardinals had veteran A.J. Pierzynski, who had been acquired at the time of his mid-season injury, and regular back-up Tony Cruz, were both available to fill in. Molina did not return as the Cards were eliminated by the Giants.\n",
      " In 2015, Molina had another All-Star season as the quiet leader of the team with the best record in the majors. He hit .270 in 136 games, his lowest average since 2010. While he did hit 23 doubles, he had only 4 homers and 34 runs scored, very low totals for him, but he did drive in 61 runs. Defensively, he was as good as ever, however, as Cardinals pitchers had an ERA of 2.79 when he was behind the dish, the lowest by any catcher since Alan Ashby caught for the 1981 Houston Astros. His season ended early, as on September 20th, he suffered a torn ligament in his left thumb, putting him out for a minimum of ten days, but there was still hope he could return to play in the postseason. He did play 3 games in the Division Series, but had only 1 hit in 8 at-bats as his injury was one of a number of key ones that caused the Cards' season to end early.\n",
      " In 2016, the Cardinals failed to make the postseason, but Molina had another good year, playing 147 games and hitting .307 with 8 homers and 58 RBI. He once again played for Puerto Rico in the 2017 World Baseball Classic - they lost in the finals for the second straight tournament - then signed a three-year contract extension just as the season was about to begin. On Opening Day, April 2nd, he became the first batter to be issued a no-pitch intentional walk, when Cubs manager Joe Maddon called for the strategy in the 9th inning, with the scored tied at 3 and first base open following a double by Jose Martinez. Mike Montgomery was the pitcher, but the strategy failed to work as a couple of batters later, Randal Grichuk hit a game-winning single with the bases loaded. On April 6th, he was involved in a bizarre play in the 7th inning of a game against the Cubs when a pitch by Brett Cecil bounced in the dirt and then stuck to his chest protector as he was looking all around him unable to find the ball. Matt Szczur was able to reach on a dropped third strike and a rattled Cecil then issued a walk to Jon Jay and was victimized by a three-run homer by Kyle Schwarber as the Cubs went on to win, 6-4. Molina did not want to say what was the substance on his chest that could ensnare a ball so tightly. Major League Baseball looked at the incident but found no rules violation as simply having a sticky surface on one's uniform, with no attempt to use it to deface the baseball, is not illegal for a position player. He was named to the All-Star team for the eighth time that season and had a memorable game on many fronts. Replacing Buster Posey for the second half of the game, he stood out by wearing gold colored catcher's gear, then took a turn as a photographer as Nelson Cruz asked him to snap a picture of him with umpire Joe West as he came up to bat in the 6th. Molina obliged, then when he came up against Ervin Santana in the bottom of the frame, he homered to the opposite field to tie the game at one. That was still the score in the 9th when he drew a lead-off walk against Craig Kimbrel. He advanced to second on a passed ball and to third on a fly out by Paul Goldschmidt, but was unable to score the winning run - which would have surely made him the game's MVP - when Michael Conforto struck out to end the inning. He finished the year at .273 in 136 games with 18 homers and 82 RBI. His low number of walks (28 in 501 at-bats) dragged down his OBP and his OPS+, which was just 96 in spite of superficially solid numbers.\n",
      " On April 8, 2018, he got caught up in a bizarre incident in the 2nd inning of a game against the Arizona Diamondbacks. D-Backs manager Torey Lovullo came out to confront umpire Tim Timmons after he had called out A.J. Pollock on strikes; Molina was just an onlooker until Lovullo said something that made him completely lose his cool, as he tried to punch Lovullo, Timmons having to restrain him, while the benches cleared. Lovullo was ejected, but not Yadier; it appears the manager had used a strong profanity in describing Molina's ability to frame pitches to the umpire, something for which he later apologized. Both Lovullo and Molina were handed one-game suspensions for their role in the incident. On May 5th, he was hit in the groin by a foul tip off a 102 mph fastball from rookie Jordan Hicks. It caused a serious and very painful injury, requiring immediate medical attention and putting him out of action for a prolonged period. He returned to the lineup on June 5th, having missed exactly a month. Yadi was not originally named to the 2018 All-Star Game, his 9th, but his name was added to the NL roster when Posey bowed out with a hip injury. He ended up playing 123 games, during which he hit .261 with 20 homers and 74 RBI. Following the season, he was named the recipient of the Roberto Clemente Award in recognition of his humanitarian work, and especially his efforts to give support to the victims of Hurricane Maria in Puerto Rico. This was particularly meaningful for him, as Clemente was Puerto Rico's most famous ballplayer and an obvious role model for Molina.\n",
      " On April 1, 2019, he added another line to his already jam-packed résumé when he played third base for the first time in an extra-inning game against the Pittsburgh Pirates. Matt Carpenter had been ejected in the top of the 11th for arguing a called third strike on a checked swing, and with the Cards' last bench player, back-up catcher Matt Wieters having entered the game as a pinch-hitter later that inning, it was between the two backstops who would man the hot corner. He did not have to make a play as the Pirates went down in order in the bottom of the inning and the Cardinals won the game, 6-5. He batted .270/.312/.399 on the campaign and set the big league record for most appearances by a National Leaguer in the postseason, appearing in his 94th game during the Cards' march to the NLCS, where they bowed out to the Washington Nationals in 4 games.\n",
      " He entered the final year of his contract in 2020 and told reporters that he would never play for another team that the Cardinals: if they wanted him back after the season, he would continue with them, but otherwise, he would retire. That year, he collected his 2,000th career hit on September 24th, in the 7th inning of a 4-2 win over the Milwaukee Brewers, after playing in 2,000th game earlier in the season. It hadn't been an easy year, as he was one of the Cards players to test positive for COVID-19 in late July, forcing the team to be idle for over two weeks, and he did not return until August 20th. In spite of the adversity, the Cards were still in playoff contention heading into the final three-game series of the season following their win over Milwaukee, and even had an outside shot at finishing first in the division. The Cards ended up in second place as Molina hit .262 with 4 homers and 16 RBIs in 42 games, and faced the San Diego Padres in the Wild Card Series. It was a wild three games, with Yadi going 6 for 13 with a pair of doubles, but the Cards were eliminated. He was then the All-Star catcher in the 2021 Caribbean Series; his Criollos de Caguas finished second.\n",
      " In 2021, he was back as the starting catcher for the Cardinals, and made the All-Star team for the 10th time, although an injury prevented him from appearing in the game. On September 3rd, he started a game behind the plate with Adam Wainwright as the starting pitcher for the 300th time; they were only the fourth battery in major league history to reach such a total, the last having been Mickey Lolich and Bill Freehan with the Detroit Tigers in the 1960s and 1970s. He finished the season at .252 in 121 games with 11 homers and 56, and helped the Cardinals to climb out of what looked like a desperate position in mid-season to claim the final Wild Card spot in the National League. He started the Wild Card Game against the Dodgers on October 6tg with the Cards overwhelming underdogs, but they managed to give Los Angeles a scare before they won it on a two-run homer by Chris Taylor in the bottom of the 9th. Yadier went 0 for 4 in the game. Following that season, he announced that 2022 would be his final year in the majors. That year became even more special in spring training, when the Cards signed his old teammate, 1B Albert Pujols, during spring training - and he also said this was going to be his final season, something which a third member of the old gang, SP Wainwright, also hinted at. On May 4th, he formed a battery with Wainwright in a 10-0 win ovver the Kansas City Royals it was the 202nd time the two had worked together in a win for Adam, tying the all-time mark held by Warren Spahn and Del Crandall. On May 8th, he reached yet another milestone with his 1,000th career RBI and on May 15th he claimed the record for most wins by a battery when he teamed up with Wainwright in a 15-6 win over the San Francisco Giants. On May 22nd, one week after his friend Pujols, he got to make his pitching debut as well, under similar circumstances to Albert's pitching debut: with the Cardinals holding an 18-0 lead over the Pittsburgh Pirates, who had already used their own position player as a pitcher in the guise of Josh VanMeter, he pitched the 9th to \"close out\" the win, allowing 4 runs in the process while not even pretending to pass for a major league pitcher. He got to pitch again on June 8th, in an 11-3 blowout loss to the Tampa Bay Rays, and recorded his first career strikeout, the victim being Isaac Paredes. On June 14th, he recorded putout #14,865 of his career, breaking the all-time record held by Ivan Rodriguez; the historic out came on a foul pop-up by Ke'Bryan Hayes of the Pittsburgh Pirates. On September 8th, he and Wainwright set another record, with their 324th start as a battery, tying the mark set by Mickey Lolich and Bill Freehan of the Detroit Tigers in the 1960s and 1970s. In that game, an 11-6 loss to the Nationals, he hit a pair of home runs, after not having gone deep in nearly four months. The pair set a new record on September 14th. He finished the year at .214 in 78 games, with 5 homers and 24 RBIs. He then started both games of the Wild Card Series in which the Cardinals were upset by the Philadelphia Phillies, going 1 for 8 in what were the final appearances of his career.\n",
      " He did not wait long to find his next role after making his retirement as a player official, as he took on the task of managing the Puerto Rican national team in the 2023 World Baseball Classic. He was no stranger to the tournament, having appeared as a player in its first four editions, including twice reaching the finals. He had gotten his feet wet earlier that off-season by managing the Navegantes del Magallanes in the Venezuelan League. He had a longer-term plan to manage in the major leagues, but in the immediate, wanted to concentrate on working with his son's U15 team.\n"
     ]
    }
   ],
   "source": [
    "for i in range(0, num_results):\n",
    "    most_similar_document_index = I[0][i]  # access the top doc result at index\n",
    "    doc = valid_entries[most_similar_document_index][\"biographical_information\"]\n",
    "    print(\"doc \" + str(most_similar_document_index) + \": \" + doc)"
   ]
  },
  {
   "cell_type": "code",
   "execution_count": null,
   "id": "e4b29c88-35f4-476e-b6ea-6ffb4d1597e6",
   "metadata": {},
   "outputs": [],
   "source": []
  }
 ],
 "metadata": {
  "kernelspec": {
   "display_name": "Python 3 (ipykernel)",
   "language": "python",
   "name": "python3"
  },
  "language_info": {
   "codemirror_mode": {
    "name": "ipython",
    "version": 3
   },
   "file_extension": ".py",
   "mimetype": "text/x-python",
   "name": "python",
   "nbconvert_exporter": "python",
   "pygments_lexer": "ipython3",
   "version": "3.8.2"
  }
 },
 "nbformat": 4,
 "nbformat_minor": 5
}
